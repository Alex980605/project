{
 "cells": [
  {
   "cell_type": "code",
   "execution_count": 8,
   "metadata": {},
   "outputs": [],
   "source": [
    "import math\n",
    "import folium\n",
    "import numpy as np\n",
    "import pandas as pd\n",
    "import matplotlib.pyplot as plt\n",
    "from IPython.display import display\n"
   ]
  },
  {
   "cell_type": "markdown",
   "metadata": {},
   "source": [
    "# 1.1 Visualization "
   ]
  },
  {
   "cell_type": "code",
   "execution_count": 9,
   "metadata": {},
   "outputs": [],
   "source": [
    "def missing_value(df):\n",
    "\treturn df.isnull().sum()\n",
    "\n",
    "#show the confirmed, deaths and recovered rated grouped by country\n",
    "#showed the top and last 5 info\n",
    "def group_by(df,groupby,attribute):\n",
    "\tby_country=df.groupby([groupby])[[attribute]].sum()\n",
    "\tprint(by_country.sort_values(by=attribute,ascending=False))\n",
    "    "
   ]
  },
  {
   "cell_type": "markdown",
   "metadata": {},
   "source": [
    "# For the Location dataset"
   ]
  },
  {
   "cell_type": "code",
   "execution_count": 10,
   "metadata": {},
   "outputs": [
    {
     "name": "stdout",
     "output_type": "stream",
     "text": [
      "The number of missing value for every attributes\n",
      "Province_State         168\n",
      "Country_Region           0\n",
      "Last_Update              0\n",
      "Lat                     80\n",
      "Long_                   80\n",
      "Confirmed                0\n",
      "Deaths                   0\n",
      "Recovered                0\n",
      "Active                   2\n",
      "Combined_Key             0\n",
      "Incidence_Rate          80\n",
      "Case-Fatality_Ratio     48\n",
      "dtype: int64\n",
      "\n",
      "2020-09-20 04:22:56    3951\n",
      "2020-08-04 02:27:56       2\n",
      "2020-08-07 22:34:20       1\n",
      "Name: Last_Update, dtype: int64\n",
      "\n",
      "                       Confirmed\n",
      "Country_Region                  \n",
      "US                       6764970\n",
      "India                    5308014\n",
      "Brazil                   4528240\n",
      "Russia                   1092915\n",
      "Colombia                  758398\n",
      "...                          ...\n",
      "Laos                          23\n",
      "Saint Kitts and Nevis         17\n",
      "Holy See                      12\n",
      "Western Sahara                10\n",
      "MS Zaandam                     9\n",
      "\n",
      "[188 rows x 1 columns]\n",
      "\n",
      "                       Deaths\n",
      "Country_Region               \n",
      "US                     199259\n",
      "Brazil                 136532\n",
      "India                   85619\n",
      "Mexico                  73258\n",
      "United Kingdom          41848\n",
      "...                       ...\n",
      "Cambodia                    0\n",
      "Holy See                    0\n",
      "Saint Kitts and Nevis       0\n",
      "Timor-Leste                 0\n",
      "Dominica                    0\n",
      "\n",
      "[188 rows x 1 columns]\n",
      "\n",
      "                Recovered\n",
      "Country_Region           \n",
      "India             4208431\n",
      "Brazil            3936893\n",
      "US                2577446\n",
      "Russia             903545\n",
      "Colombia           627685\n",
      "...                   ...\n",
      "Holy See               12\n",
      "Western Sahara          8\n",
      "Sweden                  0\n",
      "Serbia                  0\n",
      "MS Zaandam              0\n",
      "\n",
      "[188 rows x 1 columns]\n",
      "\n",
      "                                     Active\n",
      "Country_Region                             \n",
      "US                                3988245.0\n",
      "India                             1013964.0\n",
      "Spain                              459169.0\n",
      "Brazil                             454815.0\n",
      "United Kingdom                     348770.0\n",
      "...                                     ...\n",
      "Holy See                                0.0\n",
      "Saint Kitts and Nevis                   0.0\n",
      "Grenada                                 0.0\n",
      "Brunei                                  0.0\n",
      "Saint Vincent and the Grenadines        0.0\n",
      "\n",
      "[188 rows x 1 columns]\n",
      "\n",
      "                       Combined_Key  Incidence_Rate\n",
      "1052     Chattahoochee, Georgia, US    14871.183644\n",
      "782           Lincoln, Arkansas, US    14718.980344\n",
      "991          Lafayette, Florida, US    14604.606982\n",
      "3277       Trousdale, Tennessee, US    14595.887983\n",
      "3239            Lake, Tennessee, US    12414.481186\n",
      "781               Lee, Arkansas, US    11787.286892\n",
      "2341           Dakota, Nebraska, US    10686.108060\n",
      "1448          Buena Vista, Iowa, US     9892.966361\n",
      "751            Chicot, Arkansas, US     9804.309152\n",
      "1783  East Feliciana, Louisiana, US     8952.181866\n",
      "\n",
      "                      Combined_Key  Case-Fatality_Ratio\n",
      "3063   Unassigned, Puerto Rico, US           108.812950\n",
      "1821     Unassigned, Louisiana, US            89.473684\n",
      "740        Unassigned, Arizona, US            50.000000\n",
      "3076  Unassigned, Rhode Island, US            48.441674\n",
      "3951                         Yemen            28.874630\n",
      "3512       Throckmorton, Texas, US            28.571429\n",
      "2053     Unassigned, Minnesota, US            27.807487\n",
      "2387         Perkins, Nebraska, US            27.272727\n",
      "362                     MS Zaandam            22.222222\n",
      "1846              Waldo, Maine, US            19.178082\n",
      "\n"
     ]
    }
   ],
   "source": [
    "#read the location_dataset\n",
    "#read the dataset\n",
    "df_Location=pd.read_csv('processed_location_Sep20th2020.csv')\n",
    "\n",
    "# for every attribute print the number of missing values\n",
    "Location_missing_data=missing_value(df_Location)\n",
    "print(\"The number of missing value for every attributes\")\n",
    "print(Location_missing_data)\n",
    "print()\n",
    "\n",
    "#check the last updated time\n",
    "Location_Last_Update = df_Location['Last_Update'].value_counts()\n",
    "print(Location_Last_Update.head(5))\n",
    "print()\n",
    "#the time last updated is almost all the same->useless attribute\n",
    "\n",
    "#ignore the NaN data in lat and long column\n",
    "#for attribute Lat and long_\n",
    "Location_incidents = folium.map.FeatureGroup()\n",
    "Location_mapInfo = df_Location.dropna(subset=['Lat'])\n",
    "Location_mapInfo = df_Location.dropna(subset=['Long_'])\n",
    "for lat,long, in zip(Location_mapInfo.Lat,Location_mapInfo.Long_):\n",
    "    Location_incidents.add_child(folium.CircleMarker([lat,long],radius=3,color='red',fill=True,fill_color='red',fill_opacity=0.1))\n",
    "Location_cases_Distribute=folium.Map()\n",
    "Location_cases_Distribute.add_child(Location_incidents)\n",
    "Location_cases_Distribute.save('Location_cases_Distribute.html')\n",
    "\n",
    "#for attributes ['Confirmed','Deaths','Recovered','Active']\n",
    "list=['Confirmed','Deaths','Recovered','Active']\n",
    "for attribute in list:\n",
    "    group_by(df_Location,'Country_Region',attribute)\n",
    "    print()\n",
    "\n",
    "#Incidence_Rate attribute\n",
    "#shows the top 10 result only as the last 10 is NaN\n",
    "incidentrate=df_Location[['Combined_Key','Incidence_Rate']]\n",
    "print(incidentrate.sort_values(by=['Incidence_Rate'],ascending=False).head(10))\n",
    "print()\n",
    "\n",
    "#Case-Fatality_Ratio\n",
    "#shows the top 10 result only as the last 10 is NaN\n",
    "caseFatalityRatio=df_Location[['Combined_Key','Case-Fatality_Ratio']]\n",
    "print(caseFatalityRatio.sort_values(by=['Case-Fatality_Ratio'],ascending=False).head(10))\n",
    "print()\n"
   ]
  },
  {
   "cell_type": "markdown",
   "metadata": {},
   "source": [
    "# For the Cases Dataset"
   ]
  },
  {
   "cell_type": "code",
   "execution_count": 11,
   "metadata": {},
   "outputs": [
    {
     "name": "stdout",
     "output_type": "stream",
     "text": [
      "The number of missing value for every attributes\n",
      "age                       296874\n",
      "sex                       293734\n",
      "province                    6568\n",
      "country                       24\n",
      "latitude                       2\n",
      "longitude                      2\n",
      "date_confirmation            462\n",
      "additional_information    522969\n",
      "source                    209191\n",
      "outcome                        0\n",
      "dtype: int64\n",
      "\n",
      "35-59    18019\n",
      "15-34    13863\n",
      "60-79    11996\n",
      "80+       7279\n",
      "30        4567\n",
      "32        4362\n",
      "29        4318\n",
      "35        4251\n",
      "31        4233\n",
      "28        4143\n",
      "Name: age, dtype: int64\n"
     ]
    },
    {
     "data": {
      "image/png": "[encoded data removed]",
      "text/plain": [
       "<Figure size 432x288 with 1 Axes>"
      ]
     },
     "metadata": {
      "needs_background": "light"
     },
     "output_type": "display_data"
    },
    {
     "name": "stdout",
     "output_type": "stream",
     "text": [
      "\n",
      "male      145583\n",
      "female    118047\n",
      "Name: sex, dtype: int64\n"
     ]
    },
    {
     "data": {
      "image/png": "[encoded data removed]",
      "text/plain": [
       "<Figure size 432x288 with 1 Axes>"
      ]
     },
     "metadata": {
      "needs_background": "light"
     },
     "output_type": "display_data"
    },
    {
     "name": "stdout",
     "output_type": "stream",
     "text": [
      "\n",
      "2020-01-06     2\n",
      "2020-01-12     1\n",
      "2020-01-15     2\n",
      "2020-01-17     1\n",
      "2020-01-18     3\n",
      "              ..\n",
      "2020-06-12    95\n",
      "2020-06-13    85\n",
      "2020-06-14    16\n",
      "2020-06-15     7\n",
      "2020-06-16    14\n",
      "Name: date_confirmation, Length: 155, dtype: int64\n"
     ]
    },
    {
     "data": {
      "image/png": "[encoded data removed]",
      "text/plain": [
       "<Figure size 432x288 with 1 Axes>"
      ]
     },
     "metadata": {
      "needs_background": "light"
     },
     "output_type": "display_data"
    },
    {
     "name": "stdout",
     "output_type": "stream",
     "text": [
      "\n",
      "nonhospitalized    250000\n",
      "hospitalized       203228\n",
      "recovered           98137\n",
      "deceased             5999\n",
      "Name: outcome, dtype: int64\n"
     ]
    },
    {
     "data": {
      "image/png": "[encoded data removed]",
      "text/plain": [
       "<Figure size 432x288 with 1 Axes>"
      ]
     },
     "metadata": {
      "needs_background": "light"
     },
     "output_type": "display_data"
    }
   ],
   "source": [
    "df_Cases=pd.read_csv('processed_individual_cases_Sep20th2020.csv')\n",
    "\n",
    "# for every attribute print the number of missing values\n",
    "Cases_missing_data=missing_value(df_Cases)\n",
    "print(\"The number of missing value for every attributes\")\n",
    "print(Cases_missing_data)\n",
    "print()\n",
    "\n",
    "\n",
    "# age attribute\n",
    "#just shows the trend of the range of age\n",
    "ageInfo = df_Cases['age'].value_counts()\n",
    "print(ageInfo.head(10))\n",
    "ageInfo.head(4).plot.bar()\n",
    "plt.show()\n",
    "print()\n",
    "\n",
    "# sex attribute\n",
    "sexInfo = df_Cases['sex'].value_counts()\n",
    "print(sexInfo)\n",
    "sexInfo.plot.bar()\n",
    "plt.show()\n",
    "print()\n",
    "\n",
    "#ignore the additional_information and source attribute\n",
    "\n",
    "#for date_confirmation attribute\n",
    "dfdata = pd.to_datetime(df_Cases.date_confirmation,format='%d.%m.%Y',errors='coerce')\n",
    "date_confirmation_Info = dfdata.value_counts().sort_index()\n",
    "print(date_confirmation_Info)\n",
    "date_confirmation_Info.plot(kind='line')\n",
    "plt.show()\n",
    "print()\n",
    "\n",
    "#for outcome attribute\n",
    "outcomeInfo = df_Cases['outcome'].value_counts()\n",
    "print(outcomeInfo)\n",
    "outcomeInfo.plot.bar()\n",
    "plt.show()\n",
    "\n"
   ]
  },
  {
   "cell_type": "code",
   "execution_count": null,
   "metadata": {},
   "outputs": [],
   "source": [
    "#*****Long Computation*****\n",
    "#ignore attribute province and country \n",
    "#used lat and long to show province and country details\n",
    "#ignore the NaN data in lat and long column\n",
    "#for attribute lat and long_\n",
    "incidents = folium.map.FeatureGroup()\n",
    "mapInfo = df_Cases.dropna(subset=['latitude'])\n",
    "mapInfo = df_Cases.dropna(subset=['longitude'])\n",
    "for lat,long, in zip(mapInfo.latitude,mapInfo.longitude):\n",
    "    incidents.add_child(folium.CircleMarker([lat,long],radius=3,color='red',fill=True,fill_color='red',fill_opacity=0.1))\n",
    "Individual_cases_Distribute=folium.Map()\n",
    "Individual_cases_Distribute.add_child(incidents)\n",
    "Individual_cases_Distribute.save('individual_cases_Distribute.html')\n",
    "print()\n"
   ]
  },
  {
   "cell_type": "markdown",
   "metadata": {},
   "source": [
    "# 1.3 Dealing with outliers"
   ]
  },
  {
   "cell_type": "code",
   "execution_count": null,
   "metadata": {},
   "outputs": [],
   "source": []
  },
  {
   "cell_type": "markdown",
   "metadata": {},
   "source": [
    "# 1.4 Transformation"
   ]
  },
  {
   "cell_type": "code",
   "execution_count": 18,
   "metadata": {},
   "outputs": [
    {
     "name": "stdout",
     "output_type": "stream",
     "text": [
      "              Province_State        Lat       Long_  Confirmed  Deaths  \\\n",
      "0                    Alabama  32.884280  -86.710122     144164    2437   \n",
      "1                     Alaska  60.411506 -148.687693       6729      45   \n",
      "2                    Arizona  33.675904 -111.463232     212942    5451   \n",
      "3                   Arkansas  34.911889  -92.433978      75160    1181   \n",
      "4                 California  37.843962 -120.728594     783313   15018   \n",
      "5                   Colorado  38.935474 -105.486240      64336    2013   \n",
      "6                Connecticut  41.613680  -72.656830      55527    4492   \n",
      "7                   Delaware  39.109277  -75.533237      19449     621   \n",
      "9       District of Columbia  38.904178  -77.016560      14902     619   \n",
      "10                   Florida  28.940755  -82.700744     681233   13287   \n",
      "11                   Georgia  32.808532  -83.577430     305021    6599   \n",
      "13                      Guam  13.444300  144.793700       2074      31   \n",
      "14                    Hawaii  20.990647 -157.414456      11326     120   \n",
      "15                     Idaho  44.263401 -114.460125      37247     441   \n",
      "16                  Illinois  39.843618  -89.178330     275041    8672   \n",
      "17                   Indiana  39.837353  -86.218568     110759    3503   \n",
      "18                      Iowa  42.029910  -93.465519      79804    1265   \n",
      "19                    Kansas  38.485379  -98.084552      52486     594   \n",
      "20                  Kentucky  37.622144  -85.199891      61106    1108   \n",
      "21                 Louisiana  31.092427  -91.824187     160283    5342   \n",
      "22                     Maine  44.687688  -69.523769       5034     139   \n",
      "23                  Maryland  39.014921  -76.675468     119744    3876   \n",
      "24             Massachusetts  42.176400  -71.577050     127181    9295   \n",
      "25                  Michigan  44.043620  -85.181696     128087    6969   \n",
      "26                 Minnesota  45.552013  -94.430953      88721    2015   \n",
      "27               Mississippi  32.792727  -89.645726      93087    2809   \n",
      "28                  Missouri  38.456765  -92.499487     112864    1825   \n",
      "29                   Montana  46.974691 -109.700395      10163     156   \n",
      "30                  Nebraska  41.321795  -99.039012      40797     442   \n",
      "31                    Nevada  39.255997 -117.563994      75419    1528   \n",
      "32             New Hampshire  43.478973  -71.577657       7920     438   \n",
      "33                New Jersey  40.286441  -74.622450     199309   16064   \n",
      "34                New Mexico  34.549359 -105.887107      27512     847   \n",
      "35                  New York  42.544151  -75.474183     449038   33081   \n",
      "36            North Carolina  35.624210  -79.501099     192247    3235   \n",
      "37              North Dakota  47.393507 -100.249393      17607     192   \n",
      "38  Northern Mariana Islands  15.097900  145.673900         68       2   \n",
      "39                      Ohio  40.310670  -82.835408     143547    4612   \n",
      "40                  Oklahoma  35.501914  -97.251400      75804     943   \n",
      "41                    Oregon  44.492401 -121.476920      30342     521   \n",
      "42              Pennsylvania  40.818078  -77.615318     154236    7940   \n",
      "43               Puerto Rico  18.240119  -66.404986      40993     605   \n",
      "45              Rhode Island  41.655142  -71.464105      23620    1088   \n",
      "46            South Carolina  33.957472  -80.983400     137240    3188   \n",
      "47              South Dakota  44.272695  -99.310636      18444     200   \n",
      "48                 Tennessee  35.885102  -86.108723     181439    2216   \n",
      "49                     Texas  31.660643  -98.653069     707940   15051   \n",
      "50                      Utah  40.014400 -111.460878      62852     440   \n",
      "51                   Vermont  44.159496  -72.684381       1710      58   \n",
      "52            Virgin Islands  18.335800  -64.896300       1257      19   \n",
      "53                  Virginia  37.566150  -78.513712     139546    2988   \n",
      "54                Washington  47.233786 -120.719220      82199    2037   \n",
      "55             West Virginia  38.814254  -80.617455      13889     311   \n",
      "56                 Wisconsin  44.395143  -89.797980      97279    1238   \n",
      "57                   Wyoming  43.086886 -107.153242       4781      49   \n",
      "\n",
      "    Recovered    Active  Incidence_Rate  CaseFatality_Ratio  \n",
      "0           0  141727.0     3239.932554            2.059484  \n",
      "1           0    6684.0      681.806753            0.724288  \n",
      "2           0  207491.0     2927.250679            6.041792  \n",
      "3           0   73979.0     2564.972414            1.821153  \n",
      "4           0  768295.0     1544.858420            1.472616  \n",
      "5           0   62323.0      881.209708            2.033498  \n",
      "6           0   51035.0     1197.530911            6.515811  \n",
      "7           0   18828.0     2033.110711            2.558009  \n",
      "9           0   14283.0     2111.515567            4.153805  \n",
      "10          0  667946.0     3523.976717            1.842133  \n",
      "11          0  298422.0     3019.372118            2.869019  \n",
      "13          0    2043.0     1262.870748            1.494696  \n",
      "14          0   11206.0      418.446064            1.838466  \n",
      "15          0   36806.0     1579.963290            1.003215  \n",
      "16          0  266369.0     1441.003581            1.855833  \n",
      "17          0  107256.0     1346.471783            2.908149  \n",
      "18          0   78520.0     2100.445798            1.581706  \n",
      "19          0   51892.0     1383.117107            1.210317  \n",
      "20          0   59998.0     1120.724105            1.768729  \n",
      "21          0  154941.0     3733.903132            4.510091  \n",
      "22          0    4895.0      225.154147            3.362911  \n",
      "23          0  115868.0     1498.364317            3.186671  \n",
      "24          0  117886.0     1429.430750            7.750353  \n",
      "25          0  121118.0      685.158730            2.854214  \n",
      "26          0   86706.0     1261.090529            1.649288  \n",
      "27          0   90278.0     3625.542448            3.317243  \n",
      "28          0  111039.0     1432.336152            1.020563  \n",
      "29          0   10007.0      874.908131            1.041301  \n",
      "30          0   40355.0     1279.159628            1.286270  \n",
      "31          0   73891.0      830.808648            1.271444  \n",
      "32          0    7482.0      340.254754            2.550448  \n",
      "33          0  183245.0     1989.386941            7.990894  \n",
      "34          0   26665.0     1051.624045            2.570815  \n",
      "35          0  415957.0     1019.670358            4.255724  \n",
      "36          0  189012.0     1780.936122            1.914877  \n",
      "37          0   17415.0     1678.142061            0.722554  \n",
      "38          0      66.0      123.313506            2.941176  \n",
      "39          0  138935.0      979.085183            3.368489  \n",
      "40          0   74861.0     1607.759976            1.406919  \n",
      "41          0   29821.0      850.064628            1.235957  \n",
      "42          0  146296.0      744.383817            3.588081  \n",
      "43          0   40388.0      959.804868            1.360162  \n",
      "45          0   22532.0     1180.066538            8.073612  \n",
      "46          0  134052.0     2792.093174            2.825071  \n",
      "47          0   18244.0     1617.141081            0.840069  \n",
      "48          0  179223.0     2709.573838            1.269234  \n",
      "49          0  692889.0     1996.520644            2.963557  \n",
      "50          0   62412.0     1710.098827            0.843145  \n",
      "51          0    1652.0      203.133446            1.592337  \n",
      "52          0    1238.0     1171.831301            1.511535  \n",
      "53          0  136558.0     1552.538985            2.500897  \n",
      "54          0   80162.0     1135.256154            1.711759  \n",
      "55          0   13578.0      599.240468            2.167137  \n",
      "56          0   96041.0     1172.414045            1.004888  \n",
      "57          0    4731.0      801.660985            1.249998  \n"
     ]
    }
   ],
   "source": [
    "\n",
    "df_Location = pd.read_csv(\"processed_location_Sep20th2020.csv\")\n",
    "\n",
    "df2 = df_Location[df_Location['Country_Region'] == 'US'].groupby('Province_State').agg(\n",
    "    Lat=('Lat', np.mean),\n",
    "    Long_=('Long_', np.mean),\n",
    "    Confirmed=('Confirmed', sum),\n",
    "    Deaths=('Deaths', sum),\n",
    "    Recovered=('Recovered', sum),\n",
    "    Active=('Active', sum),\n",
    "    Incidence_Rate=('Incidence_Rate', np.mean),\n",
    "    CaseFatality_Ratio=('Case-Fatality_Ratio', np.mean)\n",
    ").reset_index()\n",
    "\n",
    "df2 = df2[df2.Province_State != 'Recovered']\n",
    "df2 = df2[df2.Province_State != 'Grand Princess']\n",
    "df2 = df2[df2.Province_State != 'Diamond Princess']\n",
    "print(df2)\n",
    "df2.to_csv('1.4.csv',index=False)"
   ]
  },
  {
   "cell_type": "markdown",
   "metadata": {},
   "source": [
    "# 1.5 Joining the cases and location dataset "
   ]
  },
  {
   "cell_type": "code",
   "execution_count": 19,
   "metadata": {},
   "outputs": [
    {
     "name": "stdout",
     "output_type": "stream",
     "text": [
      "          age     sex province   country   latitude  longitude  \\\n",
      "0         NaN     NaN  Gujarat     India  23.027760   72.60027   \n",
      "1         NaN     NaN  Gujarat     India  23.027760   72.60027   \n",
      "2         NaN     NaN  Gujarat     India  23.027760   72.60027   \n",
      "3         NaN     NaN  Gujarat     India  21.185780   72.83679   \n",
      "4         NaN    male  Gujarat     India  23.027760   72.60027   \n",
      "...       ...     ...      ...       ...        ...        ...   \n",
      "461930  50-59  female   Nagano     Japan  36.135960  138.04630   \n",
      "461931  50-59  female   Nagano     Japan  36.135960  138.04630   \n",
      "461932      0    male   Arauca  Colombia   7.086930  -70.75869   \n",
      "461933     65  female   Arauca  Colombia   6.463920  -71.72770   \n",
      "461934    NaN     NaN  Roraima    Brazil   3.012199  -60.74727   \n",
      "\n",
      "       date_confirmation          outcome  Confirmed  Deaths  Recovered  \\\n",
      "0             15.04.2020     hospitalized     120336    3286     100974   \n",
      "1             22.05.2020     hospitalized     120336    3286     100974   \n",
      "2             13.05.2020        recovered     120336    3286     100974   \n",
      "3             16.05.2020        recovered     120336    3286     100974   \n",
      "4             18.04.2020     hospitalized     120336    3286     100974   \n",
      "...                  ...              ...        ...     ...        ...   \n",
      "461930        26.02.2020  nonhospitalized        300       1        296   \n",
      "461931        06.03.2020  nonhospitalized        300       1        296   \n",
      "461932        04.05.2020  nonhospitalized       1449      34       1122   \n",
      "461933        01.06.2020  nonhospitalized       1449      34       1122   \n",
      "461934        24.03.2020  nonhospitalized      48088     613      15164   \n",
      "\n",
      "         Active  Incidence_Rate  Case-Fatality_Ratio  \n",
      "0       16076.0      188.400627             2.730687  \n",
      "1       16076.0      188.400627             2.730687  \n",
      "2       16076.0      188.400627             2.730687  \n",
      "3       16076.0      188.400627             2.730687  \n",
      "4       16076.0      188.400627             2.730687  \n",
      "...         ...             ...                  ...  \n",
      "461930      3.0       14.642789             0.333333  \n",
      "461931      3.0       14.642789             0.333333  \n",
      "461932    293.0      552.686384             2.346446  \n",
      "461933    293.0      552.686384             2.346446  \n",
      "461934  32311.0     7938.444370             1.274746  \n",
      "\n",
      "[461935 rows x 14 columns]\n"
     ]
    }
   ],
   "source": [
    "df2.rename(columns={'CaseFatality_Ratio':'Case-Fatality_Ratio'},inplace=True)\n",
    "\n",
    "df2.insert(1,\"Country_Region\",\"US\")\n",
    "df2.insert(9,\"Combined_Key\",\"\")\n",
    "#df2.to_csv('1.4.csv',index=False)\n",
    "\n",
    "df_Location = df_Location[df_Location.Country_Region != 'US']\n",
    "df_Location_new=df_Location.append(df2)\n",
    "#df_Location_new.to_csv('df_Location_new.csv',index=False)\n",
    "df_Cases=pd.read_csv('processed_individual_cases_Sep20th2020.csv')\n",
    "\n",
    "df_Location_new.rename(columns={'Province_State':'province', 'Country_Region':'country'},inplace = True)\n",
    "df_Cases['country'] = df_Cases['country'].replace(['United States'],'US')\n",
    "df_Combined = pd.merge(df_Cases,df_Location_new)  \n",
    "df_Combined.drop(columns=['additional_information','Lat', 'Long_','source','Last_Update','Combined_Key'],inplace=True)\n",
    "\n",
    "print(df_Combined)\n",
    "df_Combined.to_csv('Combined.csv',index=False)"
   ]
  },
  {
   "cell_type": "code",
   "execution_count": null,
   "metadata": {},
   "outputs": [],
   "source": []
  }
 ],
 "metadata": {
  "kernelspec": {
   "display_name": "Python 3",
   "language": "python",
   "name": "python3"
  },
  "language_info": {
   "codemirror_mode": {
    "name": "ipython",
    "version": 3
   },
   "file_extension": ".py",
   "mimetype": "text/x-python",
   "name": "python",
   "nbconvert_exporter": "python",
   "pygments_lexer": "ipython3",
   "version": "3.8.5"
  }
 },
 "nbformat": 4,
 "nbformat_minor": 4
}
